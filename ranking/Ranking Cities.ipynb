{
 "cells": [
  {
   "cell_type": "code",
   "execution_count": 2,
   "metadata": {},
   "outputs": [],
   "source": [
    "import numpy as np\n",
    "import pandas as pd"
   ]
  },
  {
   "cell_type": "code",
   "execution_count": 3,
   "metadata": {},
   "outputs": [],
   "source": [
    "# city features\n",
    "city_data = pd.read_csv('./merged_city_data_normalized_with_employment.csv').set_index('GeoID')\n",
    "# incomplete dataset, but has place names\n",
    "city_data_with_names = pd.read_csv('./merged_city_data_normalized.tsv', sep='\\t').set_index('GeoID')\n",
    "city_data_with_names = city_data_with_names.groupby(city_data_with_names.index).first()\n",
    "# affiliate cities and their geoids\n",
    "aff_cities = pd.read_csv('./Affiliate-City-to-Id2.csv', names=['Place Name', 'GeoID']).set_index('GeoID')"
   ]
  },
  {
   "cell_type": "code",
   "execution_count": 7,
   "metadata": {},
   "outputs": [
    {
     "name": "stdout",
     "output_type": "stream",
     "text": [
      "Score: 7.40\tGeoID: 845970\tPlace Name: Longmont city, Colorado\n",
      "Score: 5.49\tGeoID: 1264175\tPlace Name: Sarasota city, Florida\n",
      "Score: 4.57\tGeoID: 3651000\tPlace Name: New York city, New York\n",
      "Score: 4.48\tGeoID: 5139448\tPlace Name: Idylwood CDP, Virginia\n",
      "Score: 4.46\tGeoID: 2451075\tPlace Name: Maryland City CDP, Maryland\n",
      "Score: 4.33\tGeoID: 667000\tPlace Name: San Francisco city, California\n",
      "Score: 4.28\tGeoID: 3420020\tPlace Name: Edgewater borough, New Jersey\n",
      "Score: 4.27\tGeoID: 3432250\tPlace Name: Hoboken city, New Jersey\n",
      "Score: 4.23\tGeoID: 2483775\tPlace Name: Wheaton CDP, Maryland\n",
      "Score: 4.21\tGeoID: 686832\tPlace Name: Yorba Linda city, California\n"
     ]
    }
   ],
   "source": [
    "# higher is better\n",
    "pos_features = [\n",
    "    'Public transportation proportion min_max_normalized',\n",
    "    'Simpsons diversity score min_max_normalized',\n",
    "    'Affordable housing in market min_max_normalized',\n",
    "    'Proportion of public transit to work under 30 minutes min_max_normalized',\n",
    "    'SNAP-authorized Stores per 1000 people (2016) min_max_normalized',\n",
    "    'Farmers Markets per 1000 people (2016) min_max_normalized',\n",
    "    'Farmer Markets with SNAP per 1000 people (2016) min_max_normalized',\n",
    "    'Farmer Markets with WIC per 1000 people (2016) min_max_normalized',\n",
    "    'Farmer Markets with WIC Cash per 1000 people (2016) min_max_normalized',\n",
    "    'Farmer Markets with SFMNP per 1000 people (2016) min_max_normalized',\n",
    "    'Employment to population ratio percentage min_max_normalized',\n",
    "    'Indeed job count normalized min_max_normalized',\n",
    "    'Craigslist affordable house count normalized min_max_normalized',\n",
    "    'Number of people with a bachelors degree or higher normalized min_max_normalized',\n",
    "    'Employment Rate Prediction min_max_normalized'\n",
    "]\n",
    "\n",
    "# lower is better\n",
    "neg_features = [\n",
    "    'Number of people below the poverty level normalized min_max_normalized',\n",
    "    'Unemployment rate min_max_normalized'\n",
    "]\n",
    "\n",
    "pos_sums = city_data[city_data.columns[city_data.columns.isin(pos_features)]].sum(axis=1)\n",
    "neg_sums = city_data[city_data.columns[city_data.columns.isin(neg_features)]].sum(axis=1)\n",
    "\n",
    "city_scores = pos_sums - neg_sums\n",
    "\n",
    "city_scores.sort_values(ascending=False, inplace=True)\n",
    "\n",
    "for geoid, score in city_scores[:10].iteritems():\n",
    "    print(\"Score: %.2f\\tGeoID: %d\\tPlace Name: %s\" % (score, geoid, city_data_with_names.loc[geoid,'Place Name']))"
   ]
  },
  {
   "cell_type": "code",
   "execution_count": 5,
   "metadata": {},
   "outputs": [
    {
     "data": {
      "text/plain": [
       "Index(['Population min_max_normalized', 'Unemployment rate min_max_normalized',\n",
       "       'Public transportation proportion min_max_normalized',\n",
       "       'Simpsons diversity score min_max_normalized',\n",
       "       'Affordable housing in market min_max_normalized',\n",
       "       'Proportion of public transit to work under 30 minutes min_max_normalized',\n",
       "       'SNAP-authorized Stores per 1000 people (2016) min_max_normalized',\n",
       "       'Farmers Markets per 1000 people (2016) min_max_normalized',\n",
       "       'Farmer Markets with SNAP per 1000 people (2016) min_max_normalized',\n",
       "       'Farmer Markets with WIC per 1000 people (2016) min_max_normalized',\n",
       "       'Farmer Markets with WIC Cash per 1000 people (2016) min_max_normalized',\n",
       "       'Farmer Markets with SFMNP per 1000 people (2016) min_max_normalized',\n",
       "       'Employment to population ratio percentage min_max_normalized',\n",
       "       'Indeed job count normalized min_max_normalized',\n",
       "       'Craigslist affordable house count normalized min_max_normalized',\n",
       "       'Number of people below the poverty level normalized min_max_normalized',\n",
       "       'Number of people with a bachelors degree or higher normalized min_max_normalized',\n",
       "       'Employment Rate Prediction min_max_normalized'],\n",
       "      dtype='object')"
      ]
     },
     "execution_count": 5,
     "metadata": {},
     "output_type": "execute_result"
    }
   ],
   "source": [
    "city_data.columns"
   ]
  }
 ],
 "metadata": {
  "kernelspec": {
   "display_name": "Python 3",
   "language": "python",
   "name": "python3"
  },
  "language_info": {
   "codemirror_mode": {
    "name": "ipython",
    "version": 3
   },
   "file_extension": ".py",
   "mimetype": "text/x-python",
   "name": "python",
   "nbconvert_exporter": "python",
   "pygments_lexer": "ipython3",
   "version": "3.7.1"
  }
 },
 "nbformat": 4,
 "nbformat_minor": 2
}
