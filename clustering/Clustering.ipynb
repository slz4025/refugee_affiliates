{
  "nbformat": 4,
  "nbformat_minor": 0,
  "metadata": {
    "colab": {
      "name": "Clustering.ipynb",
      "version": "0.3.2",
      "provenance": [],
      "collapsed_sections": []
    },
    "kernelspec": {
      "name": "python3",
      "display_name": "Python 3"
    }
  },
  "cells": [
    {
      "cell_type": "code",
      "metadata": {
        "id": "k6XGSYFFjjZs",
        "colab_type": "code",
        "colab": {}
      },
      "source": [
        "import pandas as pd\n",
        "import numpy as np\n",
        "import io\n",
        "import matplotlib.pyplot as plt\n",
        "from sklearn.cluster import MeanShift, estimate_bandwidth\n",
        "\n",
        "#Reads file with merged city data along with employment prediction information\n",
        "#Includes original data, min-max normalized data, and z-scores\n",
        "combo = pd.read_csv(\"merged_city_data_normalized_with_employment.csv\", encoding = 'ISO-8859-1')\n",
        "combo = combo.drop_duplicates(subset=['GeoID'])\n",
        "\n",
        "#Gets the name and GeoID of each city\n",
        "names = combo[['GeoID', 'Place Name']]\n",
        "\n",
        "#Gets a list of the affiliate cities\n",
        "aff = pd.read_csv(\"Affiliate-City-to-Id2.csv\", encoding = 'ISO-8859-1')\n",
        "aff = aff[['Geoid']]\n",
        "aff.columns = ['GeoID']\n",
        "aff['Affiliate'] = pd.Series(['Yes']*160)\n"
      ],
      "execution_count": 0,
      "outputs": []
    },
    {
      "cell_type": "code",
      "metadata": {
        "id": "CJ61n-xLm1vH",
        "colab_type": "code",
        "colab": {}
      },
      "source": [
        "#Fetchs min-max normalized data from table and stores into data\n",
        "data = combo.iloc[:,27:44]\n",
        "data['Employment Rate Prediction min_max_normalized'] = combo['Employment Rate Prediction min_max_normalized']\n",
        "\n",
        "#Fills NaN values with 0's\n",
        "data = data.fillna(0)\n",
        "\n",
        "#Stores into numpy array\n",
        "arr = data.values"
      ],
      "execution_count": 0,
      "outputs": []
    },
    {
      "cell_type": "code",
      "metadata": {
        "id": "WM4sNC6SnCLr",
        "colab_type": "code",
        "colab": {
          "base_uri": "https://localhost:8080/",
          "height": 54
        },
        "outputId": "fb36aa7b-9a51-474b-8506-8c43fcfc1abd"
      },
      "source": [
        "#Bandwidth that creates a good number of clusters\n",
        "bandwidth = 0.35\n",
        "\n",
        "#Performs meanshift clustering\n",
        "ms = MeanShift(bandwidth=bandwidth, bin_seeding=True)\n",
        "ms.fit(arr)\n",
        "labels = ms.labels_\n",
        "cluster_centers = ms.cluster_centers_\n",
        "\n",
        "labels_unique, counts = np.unique(labels, return_counts=True)\n",
        "countClusters = dict(zip(labels_unique, counts))\n",
        "n_clusters_ = len(labels_unique)\n",
        "\n",
        "print(countClusters)"
      ],
      "execution_count": 10,
      "outputs": [
        {
          "output_type": "stream",
          "text": [
            "{0: 1872, 1: 1703, 2: 1299, 3: 114, 4: 14, 5: 14, 6: 32, 7: 35, 8: 3, 9: 1, 10: 8, 11: 1, 12: 29, 13: 1, 14: 20, 15: 79, 16: 9, 17: 10, 18: 31, 19: 7, 20: 12, 21: 1, 22: 116, 23: 3, 24: 36, 25: 8, 26: 2, 27: 121, 28: 1, 29: 1, 30: 1, 31: 128, 32: 1, 33: 2, 34: 15, 35: 41, 36: 1, 37: 11}\n"
          ],
          "name": "stdout"
        }
      ]
    },
    {
      "cell_type": "code",
      "metadata": {
        "id": "wDineecpngxG",
        "colab_type": "code",
        "colab": {}
      },
      "source": [
        "#Creates a new dataframe to store the results\n",
        "res = pd.DataFrame(combo['GeoID'])\n",
        "\n",
        "#Adds cluster labels, city names, and affiliate status to dataframe\n",
        "res['Cluster'] = pd.Series(labels)\n",
        "res = res.merge(names, on = 'GeoID')\n",
        "res = res.merge(aff, how = 'left', on = 'GeoID')\n",
        "\n",
        "#Outputs result as a csv\n",
        "res.to_csv('clusters.csv')\n",
        "\n",
        "#Creates a dataframe with all of the cluster centers and outputs as a csv\n",
        "cc = pd.DataFrame(cluster_centers)\n",
        "cc.to_csv(\"cluster_center.csv\")"
      ],
      "execution_count": 0,
      "outputs": []
    },
    {
      "cell_type": "code",
      "metadata": {
        "id": "iVNcZ4otQRJz",
        "colab_type": "code",
        "colab": {}
      },
      "source": [
        "#Isolates city GeoID of each of the three major clusters\n",
        "cluster1 = pd.DataFrame((res.loc[res['Cluster'] == 0])['GeoID'])\n",
        "cluster2 = pd.DataFrame((res.loc[res['Cluster'] == 1])['GeoID'])\n",
        "cluster3 = pd.DataFrame((res.loc[res['Cluster'] == 2])['GeoID'])\n",
        "\n",
        "#Gets city statistics for each of the three major clusters\n",
        "cluster1 = cluster1.merge(combo, on = 'GeoID', how = 'left')\n",
        "cluster2 = cluster2.merge(combo, on = 'GeoID', how = 'left')\n",
        "cluster3 = cluster3.merge(combo, on = 'GeoID', how = 'left')\n",
        "\n",
        "#Gets means and standard deviations for the cities in each of the three major clusters\n",
        "df3 = pd.DataFrame(cluster1.mean())\n",
        "df3[\"Cluster 1 Standard Dev\"] = pd.Series(cluster1.std())\n",
        "df3[\"Cluster 2 Mean\"] = pd.Series(cluster2.mean())\n",
        "df3[\"Cluster 2 Standard Deviation\"] = pd.Series(cluster2.std())\n",
        "df3[\"Cluster 3 Mean\"] = pd.Series(cluster3.mean())\n",
        "df3[\"Cluster 3 Standard Deviation\"] = pd.Series(cluster3.std())\n",
        "\n",
        "#Outputs cluster statistics as a csv\n",
        "df3.to_csv('cluster_stats.csv')\n"
      ],
      "execution_count": 0,
      "outputs": []
    },
    {
      "cell_type": "code",
      "metadata": {
        "id": "YpYsAhJsydMF",
        "colab_type": "code",
        "outputId": "ed6ad6d1-c791-4a9e-b3cb-f71727a43b85",
        "colab": {
          "base_uri": "https://localhost:8080/",
          "height": 1343
        }
      },
      "source": [
        "affCluster = res.loc[res['Affiliate'] == 'Yes']\n",
        "counts = affCluster['Cluster'].value_counts()\n",
        "\n",
        "#Prints out the number of affiliate cities in each of the clusters\n",
        "print(counts)\n",
        "#Prints out cluster assignment for each of the affiliate cities\n",
        "print(affCluster)\n"
      ],
      "execution_count": 13,
      "outputs": [
        {
          "output_type": "stream",
          "text": [
            "1     98\n",
            "2     29\n",
            "15    11\n",
            "3      7\n",
            "12     5\n",
            "24     2\n",
            "7      2\n",
            "35     1\n",
            "20     1\n",
            "18     1\n",
            "9      1\n",
            "6      1\n",
            "0      1\n",
            "Name: Cluster, dtype: int64\n",
            "        GeoID  Cluster                             Place Name Affiliate\n",
            "55     150000        1                   Mobile city, Alabama       Yes\n",
            "100    203000        1         Anchorage municipality, Alaska       Yes\n",
            "168    455000        1                  Phoenix city, Arizona       Yes\n",
            "194    477000        1                   Tucson city, Arizona       Yes\n",
            "253    566080        2              Springdale city, Arkansas       Yes\n",
            "274    602000        1               Anaheim city, California       Yes\n",
            "458    629000        1          Garden Grove city, California       Yes\n",
            "460    630000        1              Glendale city, California       Yes\n",
            "563    644000        1           Los Angeles city, California       Yes\n",
            "565    644112        1             Los Gatos town, California       Yes\n",
            "596    648354        1               Modesto city, California       Yes\n",
            "628    653000       24               Oakland city, California       Yes\n",
            "716    664000        1            Sacramento city, California       Yes\n",
            "721    665000        1        San Bernardino city, California       Yes\n",
            "726    666000        1             San Diego city, California       Yes\n",
            "730    667000        3         San Francisco city, California       Yes\n",
            "734    668000        1              San Jose city, California       Yes\n",
            "810    680812        1               Turlock city, California       Yes\n",
            "830    683346        1          Walnut Creek city, California       Yes\n",
            "884    816000        1        Colorado Springs city, Colorado       Yes\n",
            "891    820000        1                  Denver city, Colorado       Yes\n",
            "916    832155        1                 Greeley city, Colorado       Yes\n",
            "926    843000        1                Lakewood city, Colorado       Yes\n",
            "965    908000       24           Bridgeport city, Connecticut       Yes\n",
            "978    937000       15             Hartford city, Connecticut       Yes\n",
            "986    952000        1            New Haven city, Connecticut       Yes\n",
            "1035  1077580       15              Wilmington city, Delaware       Yes\n",
            "1037  1150000        3  Washington city, District of Columbia       Yes\n",
            "1083  1212875        2               Clearwater city, Florida       Yes\n",
            "1109  1217100        1             Delray Beach city, Florida       Yes\n",
            "...       ...      ...                                    ...       ...\n",
            "4762  4740000        1              Knoxville city, Tennessee       Yes\n",
            "4776  4748000        1                Memphis city, Tennessee       Yes\n",
            "4810  4801000        2                    Abilene city, Texas       Yes\n",
            "4819  4803000        1                   Amarillo city, Texas       Yes\n",
            "4827  4805000        1                     Austin city, Texas       Yes\n",
            "4890  4819000        1                     Dallas city, Texas       Yes\n",
            "4924  4827000        1                 Fort Worth city, Texas       Yes\n",
            "4968  4835000        1                    Houston city, Texas       Yes\n",
            "5099  4865000        1                San Antonio city, Texas       Yes\n",
            "5223  4967000        1              Salt Lake City city, Utah       Yes\n",
            "5265  5103000        3                Arlington CDP, Virginia       Yes\n",
            "5290  5114968       12         Charlottesville city, Virginia       Yes\n",
            "5310  5127200        3            Falls Church city, Virginia       Yes\n",
            "5320  5129744        1          Fredericksburg city, Virginia       Yes\n",
            "5331  5135624        2            Harrisonburg city, Virginia       Yes\n",
            "5380  5156000        1            Newport News city, Virginia       Yes\n",
            "5393  5167000        1                Richmond city, Virginia       Yes\n",
            "5394  5168000        1                 Roanoke city, Virginia       Yes\n",
            "5504  5335415        1                  Kent city, Washington       Yes\n",
            "5562  5358235        2              Richland city, Washington       Yes\n",
            "5567  5363000        3               Seattle city, Washington       Yes\n",
            "5579  5367000        2               Spokane city, Washington       Yes\n",
            "5588  5370000        1                Tacoma city, Washington       Yes\n",
            "5597  5374060        1             Vancouver city, Washington       Yes\n",
            "5613  5414600        2         Charleston city, West Virginia       Yes\n",
            "5669  5531000        1              Green Bay city, Wisconsin       Yes\n",
            "5692  5548000        2                Madison city, Wisconsin       Yes\n",
            "5702  5553000        1              Milwaukee city, Wisconsin       Yes\n",
            "5717  5560500        2                Oshkosh city, Wisconsin       Yes\n",
            "5736  5572975        2              Sheboygan city, Wisconsin       Yes\n",
            "\n",
            "[160 rows x 4 columns]\n"
          ],
          "name": "stdout"
        }
      ]
    }
  ]
}